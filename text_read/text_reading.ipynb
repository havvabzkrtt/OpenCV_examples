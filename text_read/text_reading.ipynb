{
 "cells": [
  {
   "cell_type": "markdown",
   "metadata": {},
   "source": [
    "NOT: Tesseract-OCR kurulumu yapılmalı ve kurulumun yapıldığı path ortam değişkenlerine eklenmelidir.\n",
    "\n",
    "Tesseract-OCR, açık kaynaklı bir optik karakter tanıma (OCR) motorudur.\n",
    "\n",
    "https://github.com/UB-Mannheim/tesseract/wiki\n",
    "\n",
    "\n",
    "\n",
    "Türkçe karakter içerirse hata verebiliyor. Çözüm:\n",
    "- C:\\Program Files\\Tesseract-OCR\\tessdata dizininde \"tur.traineddata\" adlı bir dosyanın olduğundan emin olun.\n",
    "- Eğer o dosya yoksa https://github.com/tesseract-ocr/tessdata linkinden indirilmeli ve gerekli dizine eklenmelidir.\n"
   ]
  },
  {
   "cell_type": "code",
   "execution_count": 2,
   "metadata": {},
   "outputs": [
    {
     "name": "stdout",
     "output_type": "stream",
     "text": [
      "Collecting pytesseract\n",
      "  Downloading pytesseract-0.3.10-py3-none-any.whl.metadata (11 kB)\n",
      "Requirement already satisfied: packaging>=21.3 in c:\\users\\havva\\appdata\\local\\programs\\python\\python311\\lib\\site-packages (from pytesseract) (23.2)\n",
      "Requirement already satisfied: Pillow>=8.0.0 in c:\\users\\havva\\appdata\\local\\programs\\python\\python311\\lib\\site-packages (from pytesseract) (10.2.0)\n",
      "Downloading pytesseract-0.3.10-py3-none-any.whl (14 kB)\n",
      "Installing collected packages: pytesseract\n",
      "Successfully installed pytesseract-0.3.10\n"
     ]
    }
   ],
   "source": [
    "! pip install pytesseract"
   ]
  },
  {
   "cell_type": "code",
   "execution_count": 1,
   "metadata": {},
   "outputs": [],
   "source": [
    "from PIL import Image\n",
    "import pytesseract"
   ]
  },
  {
   "cell_type": "code",
   "execution_count": 2,
   "metadata": {},
   "outputs": [],
   "source": [
    "im = Image.open(\"text.png\")"
   ]
  },
  {
   "cell_type": "code",
   "execution_count": 4,
   "metadata": {},
   "outputs": [
    {
     "name": "stdout",
     "output_type": "stream",
     "text": [
      "Uygulamalarla OpenCV\n",
      "\n"
     ]
    }
   ],
   "source": [
    "text = pytesseract.image_to_string(im,lang=\"tur\")\n",
    "print(text)"
   ]
  },
  {
   "cell_type": "code",
   "execution_count": 9,
   "metadata": {},
   "outputs": [
    {
     "name": "stdout",
     "output_type": "stream",
     "text": [
      "Doğa, hayatın temel kaynağı ve insanlığın vazgeçilmez bir parçasıdır. Geniş ve çeşitli ekosistemleri,\n",
      "canlıları ve doğal süreçleri içeren muazzam bir bütünlüğü ifade eder. Doğa, dağların yükseldiği,\n",
      "denizlerin coştuğu, ormanların yeşerdiği ve vadilerin serpildiği bir sahnedir.\n",
      "\n"
     ]
    }
   ],
   "source": [
    "im = Image.open(\"paragraf.PNG\")\n",
    "text = pytesseract.image_to_string(im,lang=\"tur\")\n",
    "print(text)"
   ]
  },
  {
   "cell_type": "code",
   "execution_count": 12,
   "metadata": {},
   "outputs": [
    {
     "name": "stdout",
     "output_type": "stream",
     "text": [
      "637593\n",
      "\n"
     ]
    }
   ],
   "source": [
    "im = Image.open(\"sayilar.PNG\")\n",
    "text = pytesseract.image_to_string(im,lang=\"tur\")\n",
    "print(text)"
   ]
  },
  {
   "cell_type": "markdown",
   "metadata": {},
   "source": [
    "EL YAZISI İLE DENEME "
   ]
  },
  {
   "cell_type": "code",
   "execution_count": 6,
   "metadata": {},
   "outputs": [
    {
     "name": "stdout",
     "output_type": "stream",
     "text": [
      "Meorhaba\n",
      "\n"
     ]
    }
   ],
   "source": [
    "im = Image.open(\"merhaba.PNG\")\n",
    "text = pytesseract.image_to_string(im,lang=\"tur\")\n",
    "print(text)"
   ]
  },
  {
   "cell_type": "code",
   "execution_count": 8,
   "metadata": {},
   "outputs": [
    {
     "name": "stdout",
     "output_type": "stream",
     "text": [
      "8bs 38t\n",
      "\n"
     ]
    }
   ],
   "source": [
    "im = Image.open(\"sayilar_elyazisi.PNG\")\n",
    "text = pytesseract.image_to_string(im,lang=\"tur\")\n",
    "print(text)"
   ]
  },
  {
   "cell_type": "markdown",
   "metadata": {},
   "source": [
    "### ARAYÜZ"
   ]
  },
  {
   "cell_type": "code",
   "execution_count": 7,
   "metadata": {},
   "outputs": [],
   "source": [
    "import tkinter as tk\n",
    "from tkinter import filedialog, scrolledtext\n",
    "from PIL import Image, ImageTk\n",
    "import pytesseract\n",
    "\n",
    "def open_image():\n",
    "    filename = filedialog.askopenfilename(title=\"Select Image\", filetypes=((\"Image files\", \"*.jpg *.png *.jpeg\"), (\"All files\", \"*.*\")))\n",
    "    if filename:\n",
    "        image = Image.open(filename)\n",
    "        text = get_text_from_image(image)\n",
    "        display_text(text)\n",
    "\n",
    "def get_text_from_image(image):\n",
    "    # Burada resimden metin çıkarma işlemi yapılacak\n",
    "    # Örnek olarak pytesseract kullanılabilir\n",
    "    text = pytesseract.image_to_string(image, lang=\"tur\")\n",
    "    return text\n",
    "\n",
    "def display_text(text):\n",
    "    text_box.delete(1.0, tk.END)\n",
    "    text_box.insert(tk.END, text)\n",
    "\n",
    "# Ana pencere oluşturma\n",
    "root = tk.Tk()\n",
    "root.title(\"Resimden Metin Alma Arayüzü\")\n",
    "\n",
    "# Resim açma butonu\n",
    "open_button = tk.Button(root, text=\"Resim Aç\", command=open_image)\n",
    "open_button.pack(pady=20)\n",
    "\n",
    "# Metin görüntüleme kutusu\n",
    "text_box = scrolledtext.ScrolledText(root, wrap=tk.WORD, width=40, height=10)\n",
    "text_box.pack(pady=20)\n",
    "\n",
    "root.mainloop()\n"
   ]
  }
 ],
 "metadata": {
  "kernelspec": {
   "display_name": "Python 3",
   "language": "python",
   "name": "python3"
  },
  "language_info": {
   "codemirror_mode": {
    "name": "ipython",
    "version": 3
   },
   "file_extension": ".py",
   "mimetype": "text/x-python",
   "name": "python",
   "nbconvert_exporter": "python",
   "pygments_lexer": "ipython3",
   "version": "3.11.7"
  }
 },
 "nbformat": 4,
 "nbformat_minor": 2
}
