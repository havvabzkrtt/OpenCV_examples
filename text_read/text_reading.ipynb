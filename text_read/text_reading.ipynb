{
 "cells": [
  {
   "cell_type": "markdown",
   "metadata": {},
   "source": [
    "NOT: Tesseract-OCR kurulumu yapılmalı ve kurulumun yapıldığı path ortam değişkenlerine eklenmelidir.\n",
    "\n",
    "Tesseract-OCR, açık kaynaklı bir optik karakter tanıma (OCR) motorudur.\n",
    "\n",
    "https://github.com/UB-Mannheim/tesseract/wiki\n",
    "\n",
    "\n",
    "\n",
    "Türkçe karakter içerirse hata verebiliyor. Çözüm:\n",
    "- C:\\Program Files\\Tesseract-OCR\\tessdata dizininde \"tur.traineddata\" adlı bir dosyanın olduğundan emin olun.\n",
    "- Eğer o dosya yoksa https://github.com/tesseract-ocr/tessdata linkinden indirilmeli ve gerekli dizine eklenmelidir.\n"
   ]
  },
  {
   "cell_type": "code",
   "execution_count": 2,
   "metadata": {},
   "outputs": [
    {
     "name": "stdout",
     "output_type": "stream",
     "text": [
      "Collecting pytesseract\n",
      "  Downloading pytesseract-0.3.10-py3-none-any.whl.metadata (11 kB)\n",
      "Requirement already satisfied: packaging>=21.3 in c:\\users\\havva\\appdata\\local\\programs\\python\\python311\\lib\\site-packages (from pytesseract) (23.2)\n",
      "Requirement already satisfied: Pillow>=8.0.0 in c:\\users\\havva\\appdata\\local\\programs\\python\\python311\\lib\\site-packages (from pytesseract) (10.2.0)\n",
      "Downloading pytesseract-0.3.10-py3-none-any.whl (14 kB)\n",
      "Installing collected packages: pytesseract\n",
      "Successfully installed pytesseract-0.3.10\n"
     ]
    }
   ],
   "source": [
    "! pip install pytesseract"
   ]
  },
  {
   "cell_type": "code",
   "execution_count": 1,
   "metadata": {},
   "outputs": [],
   "source": [
    "from PIL import Image\n",
    "import pytesseract"
   ]
  },
  {
   "cell_type": "code",
   "execution_count": 3,
   "metadata": {},
   "outputs": [],
   "source": [
    "im = Image.open(\"text.png\")"
   ]
  },
  {
   "cell_type": "code",
   "execution_count": 4,
   "metadata": {},
   "outputs": [
    {
     "name": "stdout",
     "output_type": "stream",
     "text": [
      "Uygulamalarla OpenCV\n",
      "\n"
     ]
    }
   ],
   "source": [
    "text = pytesseract.image_to_string(im,lang=\"tur\")\n",
    "print(text)"
   ]
  },
  {
   "cell_type": "code",
   "execution_count": 9,
   "metadata": {},
   "outputs": [
    {
     "name": "stdout",
     "output_type": "stream",
     "text": [
      "Doğa, hayatın temel kaynağı ve insanlığın vazgeçilmez bir parçasıdır. Geniş ve çeşitli ekosistemleri,\n",
      "canlıları ve doğal süreçleri içeren muazzam bir bütünlüğü ifade eder. Doğa, dağların yükseldiği,\n",
      "denizlerin coştuğu, ormanların yeşerdiği ve vadilerin serpildiği bir sahnedir.\n",
      "\n"
     ]
    }
   ],
   "source": [
    "im = Image.open(\"paragraf.PNG\")\n",
    "text = pytesseract.image_to_string(im,lang=\"tur\")\n",
    "print(text)"
   ]
  },
  {
   "cell_type": "code",
   "execution_count": 12,
   "metadata": {},
   "outputs": [
    {
     "name": "stdout",
     "output_type": "stream",
     "text": [
      "637593\n",
      "\n"
     ]
    }
   ],
   "source": [
    "im = Image.open(\"sayilar.PNG\")\n",
    "text = pytesseract.image_to_string(im,lang=\"tur\")\n",
    "print(text)"
   ]
  },
  {
   "cell_type": "markdown",
   "metadata": {},
   "source": [
    "EL YAZISI İLE DENEME "
   ]
  },
  {
   "cell_type": "code",
   "execution_count": 6,
   "metadata": {},
   "outputs": [
    {
     "name": "stdout",
     "output_type": "stream",
     "text": [
      "Meorhaba\n",
      "\n"
     ]
    }
   ],
   "source": [
    "im = Image.open(\"merhaba.PNG\")\n",
    "text = pytesseract.image_to_string(im,lang=\"tur\")\n",
    "print(text)"
   ]
  },
  {
   "cell_type": "code",
   "execution_count": 8,
   "metadata": {},
   "outputs": [
    {
     "name": "stdout",
     "output_type": "stream",
     "text": [
      "8bs 38t\n",
      "\n"
     ]
    }
   ],
   "source": [
    "im = Image.open(\"sayilar_elyazisi.PNG\")\n",
    "text = pytesseract.image_to_string(im,lang=\"tur\")\n",
    "print(text)"
   ]
  }
 ],
 "metadata": {
  "kernelspec": {
   "display_name": "Python 3",
   "language": "python",
   "name": "python3"
  },
  "language_info": {
   "codemirror_mode": {
    "name": "ipython",
    "version": 3
   },
   "file_extension": ".py",
   "mimetype": "text/x-python",
   "name": "python",
   "nbconvert_exporter": "python",
   "pygments_lexer": "ipython3",
   "version": "3.11.7"
  }
 },
 "nbformat": 4,
 "nbformat_minor": 2
}
